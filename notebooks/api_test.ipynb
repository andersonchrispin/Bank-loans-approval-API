{
 "cells": [
  {
   "cell_type": "code",
   "execution_count": 2,
   "metadata": {},
   "outputs": [],
   "source": [
    "import requests\n",
    "import json\n",
    "import pandas as pd\n",
    "import numpy as np\n",
    "import pickle\n",
    "from flask import jsonify"
   ]
  },
  {
   "cell_type": "code",
   "execution_count": 23,
   "metadata": {},
   "outputs": [
    {
     "name": "stdout",
     "output_type": "stream",
     "text": [
      "{'Request': 'Approved'}\n"
     ]
    }
   ],
   "source": [
    "url = 'http://3.99.217.110:5000/predict'\n",
    "\n",
    "json_data =[{\n",
    "    \"Credit_History\" : 1,\n",
    "    \"ApplicantIncome\" : 90,\n",
    "    \"CoapplicantIncome\" : 90,\n",
    "    \"LoanAmount\" : 100,\n",
    "    \"Education\" : 'Graduate',\n",
    "    \"Self_Employed\" : 'No',\n",
    "    \"Gender\" : 'Female',\n",
    "    \"Married\" : 'No',\n",
    "    \"Dependants\" : 2,\n",
    "    \"Property_Area\" : 'Urban',\n",
    "    \"Loan_Amount_Term\" : 360\n",
    "    }]\n",
    "\n",
    "r = requests.post(url, json=json_data)\n",
    "\n",
    "print(r.json())\n"
   ]
  },
  {
   "cell_type": "code",
   "execution_count": 57,
   "metadata": {},
   "outputs": [
    {
     "name": "stdout",
     "output_type": "stream",
     "text": [
      "Request Approved\n"
     ]
    }
   ],
   "source": [
    "query_ = pd.DataFrame(json_data)\n",
    "model_columns = ['Credit_History', 'ApplicantIncome', 'CoapplicantIncome', 'LoanAmount',\n",
    "                 'Education', 'Self_Employed', 'Gender', 'Married', 'Dependents', \n",
    "                 'Property_Area','Loan_Amount_Term']\n",
    "query = query_.reindex(columns = model_columns, fill_value=0)\n",
    "         \n",
    "with open('./loan_predict.pickle', 'rb') as f:\n",
    "    model = pickle.load(f)   \n",
    "         \n",
    "query['CoapplicantIncome'] = query.CoapplicantIncome.astype('int')\n",
    "query['ApplicantIncome'] = query.ApplicantIncome.astype('int')\n",
    "query['Total_Income'] = query['ApplicantIncome'] + query['CoapplicantIncome']\n",
    "query['Total_Income'] = np.log(query['Total_Income'])\n",
    "query['LoanAmount'] = np.log(query['LoanAmount'])\n",
    "query['Education'] = query.Education.map({'Graduate':0, 'Not Graduate':1})\n",
    "query['Self_Employed'] = query.Self_Employed.map({'Yes':0, 'No':1})\n",
    "query['Property_Area'] = query.Property_Area.map({'Urban':0, 'Rural':1, 'Semiurban':2})\n",
    "query['Credit_History'] = query.Credit_History.astype('int64')\n",
    "query = query[['Credit_History', 'Self_Employed', 'Total_Income', \n",
    "               'LoanAmount' , 'Property_Area', 'Education']]\n",
    "            \n",
    "prediction = list(model.predict(query))\n",
    "if prediction[0] == False:\n",
    "    prediction = \"Rejected\"\n",
    "if prediction[0] == True:\n",
    "    prediction = \"Approved\"\n",
    "\n",
    "print(\"Request\", prediction)"
   ]
  }
 ],
 "metadata": {
  "kernelspec": {
   "display_name": "test_env",
   "language": "python",
   "name": "test_env"
  },
  "language_info": {
   "codemirror_mode": {
    "name": "ipython",
    "version": 3
   },
   "file_extension": ".py",
   "mimetype": "text/x-python",
   "name": "python",
   "nbconvert_exporter": "python",
   "pygments_lexer": "ipython3",
   "version": "3.10.9"
  },
  "orig_nbformat": 4
 },
 "nbformat": 4,
 "nbformat_minor": 2
}
